{
 "cells": [
  {
   "cell_type": "code",
   "execution_count": 1,
   "metadata": {},
   "outputs": [],
   "source": [
    "import pandas as pd\n",
    "import numpy as np"
   ]
  },
  {
   "cell_type": "code",
   "execution_count": 8,
   "metadata": {},
   "outputs": [],
   "source": [
    "#df_complete_nodes_list.to_csv(r'C:\\Users\\bhargav sai\\empty.csv', index = False)\n",
    "df1=pd.read_csv(r'C:\\Users\\bhargav sai\\final.csv',encoding='cp1252')"
   ]
  },
  {
   "cell_type": "code",
   "execution_count": 20,
   "metadata": {},
   "outputs": [
    {
     "data": {
      "text/html": [
       "<div>\n",
       "<style scoped>\n",
       "    .dataframe tbody tr th:only-of-type {\n",
       "        vertical-align: middle;\n",
       "    }\n",
       "\n",
       "    .dataframe tbody tr th {\n",
       "        vertical-align: top;\n",
       "    }\n",
       "\n",
       "    .dataframe thead th {\n",
       "        text-align: right;\n",
       "    }\n",
       "</style>\n",
       "<table border=\"1\" class=\"dataframe\">\n",
       "  <thead>\n",
       "    <tr style=\"text-align: right;\">\n",
       "      <th></th>\n",
       "      <th>ï»¿BranchesFrom</th>\n",
       "      <th>Vessel</th>\n",
       "      <th>VesselType</th>\n",
       "      <th>BodyPart</th>\n",
       "    </tr>\n",
       "  </thead>\n",
       "  <tbody>\n",
       "    <tr>\n",
       "      <th>0</th>\n",
       "      <td>left atrium</td>\n",
       "      <td>left atrium</td>\n",
       "      <td>heart chamber</td>\n",
       "      <td>heart chamber</td>\n",
       "    </tr>\n",
       "    <tr>\n",
       "      <th>1</th>\n",
       "      <td>left atrium</td>\n",
       "      <td>left inferior pulmonary vein</td>\n",
       "      <td>vein</td>\n",
       "      <td>lung</td>\n",
       "    </tr>\n",
       "    <tr>\n",
       "      <th>2</th>\n",
       "      <td>left atrium</td>\n",
       "      <td>left superior pulmonary vein</td>\n",
       "      <td>vein</td>\n",
       "      <td>lung</td>\n",
       "    </tr>\n",
       "    <tr>\n",
       "      <th>3</th>\n",
       "      <td>left atrium</td>\n",
       "      <td>right inferior pulmonary vein</td>\n",
       "      <td>vein</td>\n",
       "      <td>lung</td>\n",
       "    </tr>\n",
       "    <tr>\n",
       "      <th>4</th>\n",
       "      <td>left atrium</td>\n",
       "      <td>right superior pulmonary vein</td>\n",
       "      <td>vein</td>\n",
       "      <td>lung</td>\n",
       "    </tr>\n",
       "    <tr>\n",
       "      <th>...</th>\n",
       "      <td>...</td>\n",
       "      <td>...</td>\n",
       "      <td>...</td>\n",
       "      <td>...</td>\n",
       "    </tr>\n",
       "    <tr>\n",
       "      <th>863</th>\n",
       "      <td>right interlobar pulmonary artery</td>\n",
       "      <td>posterior segmental artery of right lung</td>\n",
       "      <td>artery</td>\n",
       "      <td>lung</td>\n",
       "    </tr>\n",
       "    <tr>\n",
       "      <th>864</th>\n",
       "      <td>right interlobar pulmonary artery</td>\n",
       "      <td>superior segmental artery of right lung</td>\n",
       "      <td>artery</td>\n",
       "      <td>lung</td>\n",
       "    </tr>\n",
       "    <tr>\n",
       "      <th>865</th>\n",
       "      <td>right pulmonary artery</td>\n",
       "      <td>truncus anterior of right pulmonary artery</td>\n",
       "      <td>artery</td>\n",
       "      <td>lung</td>\n",
       "    </tr>\n",
       "    <tr>\n",
       "      <th>866</th>\n",
       "      <td>truncus anterior of right pulmonary artery</td>\n",
       "      <td>anterior segmental artery of right lung</td>\n",
       "      <td>artery</td>\n",
       "      <td>lung</td>\n",
       "    </tr>\n",
       "    <tr>\n",
       "      <th>867</th>\n",
       "      <td>truncus anterior of right pulmonary artery</td>\n",
       "      <td>apical segmental artery of right lung</td>\n",
       "      <td>artery</td>\n",
       "      <td>lung</td>\n",
       "    </tr>\n",
       "  </tbody>\n",
       "</table>\n",
       "<p>868 rows × 4 columns</p>\n",
       "</div>"
      ],
      "text/plain": [
       "                                ï»¿BranchesFrom  \\\n",
       "0                                   left atrium   \n",
       "1                                   left atrium   \n",
       "2                                   left atrium   \n",
       "3                                   left atrium   \n",
       "4                                   left atrium   \n",
       "..                                          ...   \n",
       "863           right interlobar pulmonary artery   \n",
       "864           right interlobar pulmonary artery   \n",
       "865                      right pulmonary artery   \n",
       "866  truncus anterior of right pulmonary artery   \n",
       "867  truncus anterior of right pulmonary artery   \n",
       "\n",
       "                                         Vessel     VesselType       BodyPart  \n",
       "0                                   left atrium  heart chamber  heart chamber  \n",
       "1                  left inferior pulmonary vein           vein           lung  \n",
       "2                  left superior pulmonary vein           vein           lung  \n",
       "3                 right inferior pulmonary vein           vein           lung  \n",
       "4                 right superior pulmonary vein           vein           lung  \n",
       "..                                          ...            ...            ...  \n",
       "863    posterior segmental artery of right lung         artery           lung  \n",
       "864     superior segmental artery of right lung         artery           lung  \n",
       "865  truncus anterior of right pulmonary artery         artery           lung  \n",
       "866     anterior segmental artery of right lung         artery           lung  \n",
       "867       apical segmental artery of right lung         artery           lung  \n",
       "\n",
       "[868 rows x 4 columns]"
      ]
     },
     "execution_count": 20,
     "metadata": {},
     "output_type": "execute_result"
    }
   ],
   "source": [
    "df1"
   ]
  },
  {
   "cell_type": "code",
   "execution_count": null,
   "metadata": {},
   "outputs": [],
   "source": []
  },
  {
   "cell_type": "code",
   "execution_count": 12,
   "metadata": {},
   "outputs": [],
   "source": [
    "#unique bodypart data frame\n",
    "body_part_type_dataframe=pd.DataFrame()\n",
    "body_part_type_dataframe['nodes']=df1.BodyPart.unique()\n",
    "\n",
    "# Braches from data frame\n",
    "BranchesFrom_data_frame=pd.DataFrame()  \n",
    "BranchesFrom_data_frame['nodes']=df1.BodyPart.unique()\n",
    "\n",
    "#vessels data frame\n",
    "Vessel_data_frame=pd.DataFrame()\n",
    "Vessel_data_frame['nodes']=df1.Vessel.unique()"
   ]
  },
  {
   "cell_type": "code",
   "execution_count": 19,
   "metadata": {},
   "outputs": [],
   "source": [
    "#conactinating all the data frames to from a single nodes list\n",
    "\n",
    "df_complete_nodes_list = pd.concat([body_part_type_dataframe,BranchesFrom_data_frame,Vessel_data_frame])\n",
    "#eliminating duplicates \n",
    "\n",
    "df_complete_nodes_list = df_complete_nodes_list.drop_duplicates('nodes')\n",
    "#putting node IDS\n",
    "\n",
    "df_complete_nodes_list.index = np.arange(1, len(df_complete_nodes_list)+1)\n",
    "df_complete_nodes_list['ID']=df_complete_nodes_list.index\n",
    "\n",
    "#EXPORTING NODES LIST TO CSV\n",
    "df_complete_nodes_list.to_csv(r'C:\\Users\\bhargav sai\\NODESLIST2.csv', index = False)"
   ]
  },
  {
   "cell_type": "code",
   "execution_count": 27,
   "metadata": {},
   "outputs": [
    {
     "name": "stdout",
     "output_type": "stream",
     "text": [
      "868 868\n"
     ]
    }
   ],
   "source": [
    "#ATTACHING BRANCHES FROM TO BODY PART\n",
    "#SOURCE:BRANCHES FROM,  TARGET: BODY PART\n",
    "column_names=[\"Source\",\"Target\"]\n",
    "edges_data_frame=pd.DataFrame(columns = column_names)\n",
    "Source_list=[]\n",
    "target_list=[]\n",
    "for index, row in df1.iterrows():\n",
    "    for index1, row1 in df_complete_nodes_list.iterrows():\n",
    "            if row['ï»¿BranchesFrom']==row1['nodes'] :\n",
    "                 Source_list.append(row1['ID'])\n",
    "                \n",
    "                \n",
    "            if row['BodyPart']==row1['nodes']:\n",
    "                target_list.append(row1['ID'])\n",
    "print(len(Source_list), len(target_list))\n",
    "for i in range (0,len(Source_list)):\n",
    "    edges_data_frame=edges_data_frame.append({'Source':Source_list[i],\"Target\":target_list[i]}, ignore_index=True)\n",
    "    "
   ]
  },
  {
   "cell_type": "code",
   "execution_count": null,
   "metadata": {},
   "outputs": [],
   "source": []
  },
  {
   "cell_type": "code",
   "execution_count": 29,
   "metadata": {},
   "outputs": [
    {
     "name": "stdout",
     "output_type": "stream",
     "text": [
      "868 868\n"
     ]
    }
   ],
   "source": [
    "#attaching vessel to body part\n",
    "#SOURCE:vessel,  TARGET: Branches from\n",
    "Source_list=[]\n",
    "target_list=[]\n",
    "for index, row in df1.iterrows():\n",
    "    for index1, row1 in df_complete_nodes_list.iterrows():\n",
    "            if row['Vessel']==row1['nodes'] :\n",
    "                 Source_list.append(row1['ID'])\n",
    "                \n",
    "                \n",
    "            if row['ï»¿BranchesFrom']==row1['nodes']:\n",
    "                target_list.append(row1['ID'])\n",
    "print(len(Source_list), len(target_list))\n",
    "for i in range (0,len(Source_list)):\n",
    "    edges_data_frame=edges_data_frame.append({'Source':Source_list[i],\"Target\":target_list[i]}, ignore_index=True)\n",
    "    \n"
   ]
  },
  {
   "cell_type": "code",
   "execution_count": 32,
   "metadata": {},
   "outputs": [],
   "source": [
    "#exporting to csv\n",
    "edges_data_frame.to_csv(r'C:\\Users\\bhargav sai\\edgeslist2.csv', index = False)"
   ]
  },
  {
   "cell_type": "code",
   "execution_count": null,
   "metadata": {},
   "outputs": [],
   "source": []
  },
  {
   "cell_type": "code",
   "execution_count": null,
   "metadata": {},
   "outputs": [],
   "source": []
  },
  {
   "cell_type": "code",
   "execution_count": 30,
   "metadata": {},
   "outputs": [
    {
     "data": {
      "text/html": [
       "<div>\n",
       "<style scoped>\n",
       "    .dataframe tbody tr th:only-of-type {\n",
       "        vertical-align: middle;\n",
       "    }\n",
       "\n",
       "    .dataframe tbody tr th {\n",
       "        vertical-align: top;\n",
       "    }\n",
       "\n",
       "    .dataframe thead th {\n",
       "        text-align: right;\n",
       "    }\n",
       "</style>\n",
       "<table border=\"1\" class=\"dataframe\">\n",
       "  <thead>\n",
       "    <tr style=\"text-align: right;\">\n",
       "      <th></th>\n",
       "      <th>Source</th>\n",
       "      <th>Target</th>\n",
       "    </tr>\n",
       "  </thead>\n",
       "  <tbody>\n",
       "    <tr>\n",
       "      <th>0</th>\n",
       "      <td>50</td>\n",
       "      <td>1</td>\n",
       "    </tr>\n",
       "    <tr>\n",
       "      <th>1</th>\n",
       "      <td>50</td>\n",
       "      <td>2</td>\n",
       "    </tr>\n",
       "    <tr>\n",
       "      <th>2</th>\n",
       "      <td>50</td>\n",
       "      <td>2</td>\n",
       "    </tr>\n",
       "    <tr>\n",
       "      <th>3</th>\n",
       "      <td>50</td>\n",
       "      <td>2</td>\n",
       "    </tr>\n",
       "    <tr>\n",
       "      <th>4</th>\n",
       "      <td>50</td>\n",
       "      <td>2</td>\n",
       "    </tr>\n",
       "    <tr>\n",
       "      <th>...</th>\n",
       "      <td>...</td>\n",
       "      <td>...</td>\n",
       "    </tr>\n",
       "    <tr>\n",
       "      <th>1731</th>\n",
       "      <td>913</td>\n",
       "      <td>905</td>\n",
       "    </tr>\n",
       "    <tr>\n",
       "      <th>1732</th>\n",
       "      <td>914</td>\n",
       "      <td>905</td>\n",
       "    </tr>\n",
       "    <tr>\n",
       "      <th>1733</th>\n",
       "      <td>915</td>\n",
       "      <td>904</td>\n",
       "    </tr>\n",
       "    <tr>\n",
       "      <th>1734</th>\n",
       "      <td>916</td>\n",
       "      <td>915</td>\n",
       "    </tr>\n",
       "    <tr>\n",
       "      <th>1735</th>\n",
       "      <td>917</td>\n",
       "      <td>915</td>\n",
       "    </tr>\n",
       "  </tbody>\n",
       "</table>\n",
       "<p>1736 rows × 2 columns</p>\n",
       "</div>"
      ],
      "text/plain": [
       "     Source Target\n",
       "0        50      1\n",
       "1        50      2\n",
       "2        50      2\n",
       "3        50      2\n",
       "4        50      2\n",
       "...     ...    ...\n",
       "1731    913    905\n",
       "1732    914    905\n",
       "1733    915    904\n",
       "1734    916    915\n",
       "1735    917    915\n",
       "\n",
       "[1736 rows x 2 columns]"
      ]
     },
     "execution_count": 30,
     "metadata": {},
     "output_type": "execute_result"
    }
   ],
   "source": [
    " edges_data_frame"
   ]
  },
  {
   "cell_type": "code",
   "execution_count": null,
   "metadata": {},
   "outputs": [],
   "source": []
  },
  {
   "cell_type": "code",
   "execution_count": null,
   "metadata": {},
   "outputs": [],
   "source": []
  },
  {
   "cell_type": "code",
   "execution_count": null,
   "metadata": {},
   "outputs": [],
   "source": []
  },
  {
   "cell_type": "code",
   "execution_count": null,
   "metadata": {},
   "outputs": [],
   "source": []
  },
  {
   "cell_type": "code",
   "execution_count": null,
   "metadata": {},
   "outputs": [],
   "source": []
  },
  {
   "cell_type": "code",
   "execution_count": null,
   "metadata": {},
   "outputs": [],
   "source": []
  },
  {
   "cell_type": "code",
   "execution_count": null,
   "metadata": {},
   "outputs": [],
   "source": []
  },
  {
   "cell_type": "code",
   "execution_count": null,
   "metadata": {},
   "outputs": [],
   "source": []
  },
  {
   "cell_type": "code",
   "execution_count": null,
   "metadata": {},
   "outputs": [],
   "source": []
  },
  {
   "cell_type": "code",
   "execution_count": null,
   "metadata": {},
   "outputs": [],
   "source": []
  },
  {
   "cell_type": "code",
   "execution_count": null,
   "metadata": {},
   "outputs": [],
   "source": []
  }
 ],
 "metadata": {
  "kernelspec": {
   "display_name": "Python 3",
   "language": "python",
   "name": "python3"
  },
  "language_info": {
   "codemirror_mode": {
    "name": "ipython",
    "version": 3
   },
   "file_extension": ".py",
   "mimetype": "text/x-python",
   "name": "python",
   "nbconvert_exporter": "python",
   "pygments_lexer": "ipython3",
   "version": "3.8.5"
  }
 },
 "nbformat": 4,
 "nbformat_minor": 4
}
